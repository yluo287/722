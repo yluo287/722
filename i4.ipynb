{
 "cells": [
  {
   "cell_type": "code",
   "execution_count": 1,
   "metadata": {},
   "outputs": [],
   "source": [
    "import findspark\n",
    "findspark.init('/home/ubuntu/spark-2.1.1-bin-hadoop2.7')\n",
    "import pyspark\n",
    "from pyspark.sql import SparkSession\n",
    "spark = SparkSession.builder.appName('iteration 4').getOrCreate()"
   ]
  },
  {
   "cell_type": "code",
   "execution_count": 2,
   "metadata": {},
   "outputs": [],
   "source": [
    "df = spark.read.load('./new.csv', inferSchema=True, format = 'csv', header = 'true')"
   ]
  },
  {
   "cell_type": "code",
   "execution_count": 3,
   "metadata": {},
   "outputs": [
    {
     "name": "stdout",
     "output_type": "stream",
     "text": [
      "root\n",
      " |-- url: string (nullable = true)\n",
      " |-- id: string (nullable = true)\n",
      " |-- Lng: double (nullable = true)\n",
      " |-- Lat: double (nullable = true)\n",
      " |-- Cid: long (nullable = true)\n",
      " |-- tradeTime: timestamp (nullable = true)\n",
      " |-- DOM: string (nullable = true)\n",
      " |-- followers: integer (nullable = true)\n",
      " |-- totalPrice: double (nullable = true)\n",
      " |-- price: integer (nullable = true)\n",
      " |-- square: double (nullable = true)\n",
      " |-- livingRoom: string (nullable = true)\n",
      " |-- drawingRoom: string (nullable = true)\n",
      " |-- kitchen: integer (nullable = true)\n",
      " |-- bathRoom: string (nullable = true)\n",
      " |-- floor: string (nullable = true)\n",
      " |-- buildingType: string (nullable = true)\n",
      " |-- constructionTime: string (nullable = true)\n",
      " |-- renovationCondition: integer (nullable = true)\n",
      " |-- buildingStructure: integer (nullable = true)\n",
      " |-- ladderRatio: double (nullable = true)\n",
      " |-- elevator: double (nullable = true)\n",
      " |-- fiveYearsProperty: double (nullable = true)\n",
      " |-- subway: double (nullable = true)\n",
      " |-- district: integer (nullable = true)\n",
      " |-- communityAverage: string (nullable = true)\n",
      "\n"
     ]
    },
    {
     "data": {
      "text/plain": [
       "318851"
      ]
     },
     "execution_count": 3,
     "metadata": {},
     "output_type": "execute_result"
    }
   ],
   "source": [
    "df.printSchema()\n",
    "df.count()"
   ]
  },
  {
   "cell_type": "code",
   "execution_count": 4,
   "metadata": {},
   "outputs": [
    {
     "name": "stdout",
     "output_type": "stream",
     "text": [
      "root\n",
      " |-- url: string (nullable = true)\n",
      " |-- id: string (nullable = true)\n",
      " |-- Lng: double (nullable = true)\n",
      " |-- Lat: double (nullable = true)\n",
      " |-- Cid: long (nullable = true)\n",
      " |-- tradeTime: timestamp (nullable = true)\n",
      " |-- DOM: string (nullable = true)\n",
      " |-- followers: integer (nullable = true)\n",
      " |-- totalPrice: double (nullable = true)\n",
      " |-- price: integer (nullable = true)\n",
      " |-- square: double (nullable = true)\n",
      " |-- livingRoom: double (nullable = true)\n",
      " |-- drawingRoom: double (nullable = true)\n",
      " |-- kitchen: integer (nullable = true)\n",
      " |-- bathRoom: double (nullable = true)\n",
      " |-- floor: string (nullable = true)\n",
      " |-- buildingType: double (nullable = true)\n",
      " |-- constructionTime: string (nullable = true)\n",
      " |-- renovationCondition: integer (nullable = true)\n",
      " |-- buildingStructure: integer (nullable = true)\n",
      " |-- ladderRatio: double (nullable = true)\n",
      " |-- elevator: double (nullable = true)\n",
      " |-- fiveYearsProperty: double (nullable = true)\n",
      " |-- subway: double (nullable = true)\n",
      " |-- district: integer (nullable = true)\n",
      " |-- communityAverage: double (nullable = true)\n",
      "\n"
     ]
    }
   ],
   "source": [
    "df=df.withColumn(\"livingRoom\",df.livingRoom.astype(\"double\")).withColumn(\n",
    "    \"drawingRoom\",df.drawingRoom.astype(\"double\")).withColumn(\n",
    "    \"bathRoom\",df.bathRoom.astype(\"double\")).withColumn(\n",
    "    \"buildingType\",df.buildingType.astype(\"double\")).withColumn(\n",
    "    \"communityAverage\",df.communityAverage.astype(\"double\"))\n",
    "df.printSchema()"
   ]
  },
  {
   "cell_type": "code",
   "execution_count": 5,
   "metadata": {},
   "outputs": [
    {
     "name": "stdout",
     "output_type": "stream",
     "text": [
      "+-------+--------------------+--------------------+-------------------+------------------+--------------------+------------------+\n",
      "|summary|                 url|                  id|                Lng|               Lat|                 Cid|               DOM|\n",
      "+-------+--------------------+--------------------+-------------------+------------------+--------------------+------------------+\n",
      "|  count|              318851|              318851|             318851|            318851|              318851|            318851|\n",
      "|   mean|                null|1.010997721356747...| 116.41845944857548| 39.94959061016476|1.129113334722684...|28.822339221999826|\n",
      "| stddev|                null|   3180813.157471676|0.11205430191086949|0.0919825472611379| 2.36344681604329E12|50.237342565932906|\n",
      "|    min|https://bj.lianji...|        101084782030|         116.072514|          39.62703|       1111027373683|                 1|\n",
      "|    max|https://bj.lianji...|        BJYZ92363553|         116.732378|         40.252758|    1114619720585020|               nan|\n",
      "+-------+--------------------+--------------------+-------------------+------------------+--------------------+------------------+\n",
      "\n"
     ]
    }
   ],
   "source": [
    "df.select('url','id','Lng','Lat','Cid','DOM').describe().show()"
   ]
  },
  {
   "cell_type": "code",
   "execution_count": 6,
   "metadata": {},
   "outputs": [
    {
     "name": "stdout",
     "output_type": "stream",
     "text": [
      "+-------+------------------+------------------+------------------+-----------------+------------------+------------------+\n",
      "|summary|         followers|        totalPrice|             price|           square|        livingRoom|       drawingRoom|\n",
      "+-------+------------------+------------------+------------------+-----------------+------------------+------------------+\n",
      "|  count|            318851|            318851|            318851|           318851|            318819|            318819|\n",
      "|   mean|16.731507820267147|349.03020062658396| 43530.43637937469|83.24059670504248| 2.010369520009786|1.1719502288132138|\n",
      "| stddev|34.209184723382876|230.78077822518074|21709.024203593606|37.23466088010018|0.7768224538956251|0.5222874790385763|\n",
      "|    min|                 0|               0.1|                 1|              6.9|               0.0|               0.0|\n",
      "|    max|              1143|           18130.0|            156250|           1745.5|               9.0|               5.0|\n",
      "+-------+------------------+------------------+------------------+-----------------+------------------+------------------+\n",
      "\n"
     ]
    }
   ],
   "source": [
    "df.select('followers','totalPrice','price','square','livingRoom','drawingRoom').describe().show()"
   ]
  },
  {
   "cell_type": "code",
   "execution_count": 7,
   "metadata": {},
   "outputs": [
    {
     "name": "stdout",
     "output_type": "stream",
     "text": [
      "+-------+-------------------+------------------+------+-----------------+------------------+-------------------+-----------------+\n",
      "|summary|            kitchen|          bathRoom| floor|     buildingType|  constructionTime|renovationCondition|buildingStructure|\n",
      "+-------+-------------------+------------------+------+-----------------+------------------+-------------------+-----------------+\n",
      "|  count|             318851|            318849|318851|           316830|            318851|             318851|           318851|\n",
      "|   mean| 0.9945993583209712| 1.376444649348124|  null|3.009789802102073|1999.0025169577525| 2.6063302294802275|4.451025714205068|\n",
      "| stddev|0.10960891166970901|19.418925028268855|  null|1.269857310795237| 22.44379264740517|  1.311738516830623|1.901753432753741|\n",
      "|    min|                  0|               0.0| δ֪ 10|            0.048|                 0|                  0|                0|\n",
      "|    max|                  4|            2011.0|  ��Ͻṹ|              4.0|                δ֪|                  4|                6|\n",
      "+-------+-------------------+------------------+------+-----------------+------------------+-------------------+-----------------+\n",
      "\n"
     ]
    }
   ],
   "source": [
    "df.select('kitchen','bathRoom','floor','buildingType','constructionTime','renovationCondition','buildingStructure').describe().show()"
   ]
  },
  {
   "cell_type": "code",
   "execution_count": 8,
   "metadata": {},
   "outputs": [
    {
     "name": "stdout",
     "output_type": "stream",
     "text": [
      "+-------+-----------------+-------------------+------------------+------------------+-----------------+------------------+\n",
      "|summary|      ladderRatio|           elevator| fiveYearsProperty|            subway|         district|  communityAverage|\n",
      "+-------+-----------------+-------------------+------------------+------------------+-----------------+------------------+\n",
      "|  count|           318851|             318819|            318819|            318819|           318851|            318388|\n",
      "|   mean|63.16486041443505| 0.5770546924744134|0.6456014227508399|0.6011122298231912|6.763563545355041|63682.446304508965|\n",
      "| stddev|25068.50608342927|0.49402767117932606|0.4783314158033766|0.4896703677568926|2.812616086044173|22329.215447185692|\n",
      "|    min|              0.0|                0.0|               0.0|               0.0|                1|           10847.0|\n",
      "|    max|        1.00094E7|                1.0|               1.0|               1.0|               13|          183109.0|\n",
      "+-------+-----------------+-------------------+------------------+------------------+-----------------+------------------+\n",
      "\n"
     ]
    }
   ],
   "source": [
    "df.select('ladderRatio','elevator','fiveYearsProperty','subway','district','communityAverage').describe().show()"
   ]
  },
  {
   "cell_type": "code",
   "execution_count": 9,
   "metadata": {},
   "outputs": [
    {
     "name": "stdout",
     "output_type": "stream",
     "text": [
      "+----------+--------+--------------------+---------+----------+-----+------+----------+-----------+-------+--------+-----+------------+----------------+-------------------+-----------------+-----------+--------+-----------------+------+--------+----------------+\n",
      "|       Lng|     Lat|           tradeTime|followers|totalPrice|price|square|livingRoom|drawingRoom|kitchen|bathRoom|floor|buildingType|constructionTime|renovationCondition|buildingStructure|ladderRatio|elevator|fiveYearsProperty|subway|district|communityAverage|\n",
      "+----------+--------+--------------------+---------+----------+-----+------+----------+-----------+-------+--------+-----+------------+----------------+-------------------+-----------------+-----------+--------+-----------------+------+--------+----------------+\n",
      "|116.475489|40.01952|2016-08-09 00:00:...|      106|     415.0|31680| 131.0|       2.0|        1.0|      1|     1.0|�� 26|         1.0|            2005|                  3|                6|      0.217|     1.0|              0.0|   1.0|       7|         56021.0|\n",
      "+----------+--------+--------------------+---------+----------+-----+------+----------+-----------+-------+--------+-----+------------+----------------+-------------------+-----------------+-----------+--------+-----------------+------+--------+----------------+\n",
      "only showing top 1 row\n",
      "\n"
     ]
    }
   ],
   "source": [
    "df=df.drop('url','id','Cid','DOM')\n",
    "df.show(1)"
   ]
  },
  {
   "cell_type": "code",
   "execution_count": 10,
   "metadata": {},
   "outputs": [
    {
     "data": {
      "text/plain": [
       "[Row(Lng=116.475489, Lat=40.01952, tradeTime=datetime.datetime(2016, 8, 9, 0, 0), followers=106, totalPrice=415.0, price=31680, square=131.0, livingRoom=2.0, drawingRoom=1.0, kitchen=1, bathRoom=1.0, floor='�� 26', buildingType=1.0, constructionTime='2005', renovationCondition=3, buildingStructure=6, ladderRatio=0.217, elevator=1.0, fiveYearsProperty=0.0, subway=1.0, district=7, communityAverage=56021.0, tradeYear=2016, UsedTime=11, newtotal=4150080.0)]"
      ]
     },
     "execution_count": 10,
     "metadata": {},
     "output_type": "execute_result"
    }
   ],
   "source": [
    "from pyspark.sql.functions import dayofmonth,month,hour,year,format_number\n",
    "new_df = df.withColumn(\"tradeYear\",year(df[\"tradeTime\"])).withColumn(\n",
    "    'UsedTime',year(df[\"tradeTime\"])-year(df[\"constructionTime\"])).withColumn(\n",
    "    'newtotal',df['price']*df['square'])\n",
    "new_df.head(1)"
   ]
  },
  {
   "cell_type": "code",
   "execution_count": 11,
   "metadata": {},
   "outputs": [],
   "source": [
    "from pyspark.sql.functions import mean\n",
    "median_bt=new_df.approxQuantile('buildingType',[0.5],0.05)[0]\n",
    "median_lr=new_df.approxQuantile('livingRoom',[0.5],0.05)[0]\n",
    "median_dr=new_df.approxQuantile('drawingRoom',[0.5],0.05)[0]\n",
    "median_br=new_df.approxQuantile('bathRoom',[0.5],0.05)[0]\n",
    "mean_ca=new_df.select(mean(new_df['communityAverage'])).collect()[0][0]"
   ]
  },
  {
   "cell_type": "code",
   "execution_count": 12,
   "metadata": {},
   "outputs": [
    {
     "name": "stdout",
     "output_type": "stream",
     "text": [
      "+-------+------------------+-------------------+------------------+------------------+------------------+------------------+-----------------+\n",
      "|summary|          elevator|  fiveYearsProperty|            subway|        livingRoom|       drawingRoom|          bathRoom| communityAverage|\n",
      "+-------+------------------+-------------------+------------------+------------------+------------------+------------------+-----------------+\n",
      "|  count|            318851|             318851|            318851|            318851|            318851|            318851|           318851|\n",
      "|   mean|0.5770971394162163| 0.6456369903183619|0.6011522623419716| 2.010368479321062|1.1719329718269662|1.3764422880906755|63682.44630450872|\n",
      "| stddev|0.4940210486605661|0.47832058767946184|0.4896620996168723|0.7767834786516646|0.5222641103964839| 19.41886414804933|22312.99750368578|\n",
      "|    min|               0.0|                0.0|               0.0|               0.0|               0.0|               0.0|          10847.0|\n",
      "|    max|               1.0|                1.0|               1.0|               9.0|               5.0|            2011.0|         183109.0|\n",
      "+-------+------------------+-------------------+------------------+------------------+------------------+------------------+-----------------+\n",
      "\n"
     ]
    }
   ],
   "source": [
    "new_df=new_df.na.fill(1.0, subset=['elevator']).na.fill(1.0, subset=['fiveYearsProperty']).na.fill(\n",
    "    1.0, subset=['subway']).na.fill(median_lr,subset=['livingRoom']).na.fill(median_dr,subset=['drawingRoom']).na.fill(\n",
    "    median_br,subset=['bathRoom']).na.fill(mean_ca,subset=['communityAverage'])\n",
    "new_df.select('elevator','fiveYearsProperty','subway','livingRoom','drawingRoom','bathRoom','communityAverage').describe().show()"
   ]
  },
  {
   "cell_type": "code",
   "execution_count": 13,
   "metadata": {},
   "outputs": [
    {
     "data": {
      "text/plain": [
       "254488"
      ]
     },
     "execution_count": 13,
     "metadata": {},
     "output_type": "execute_result"
    }
   ],
   "source": [
    "#ountlier\n",
    "quantiles_lng = new_df.approxQuantile('Lng',[0.25,0.75],0.05)\n",
    "IQR = quantiles_lng[1] - quantiles_lng[0]\n",
    "min_value_lng = quantiles_lng[0] - 1.5 * IQR\n",
    "max_value_lng = quantiles_lng[1] + 1.5 * IQR\n",
    "\n",
    "quantiles_lat = new_df.approxQuantile('Lat',[0.25,0.75],0.05)\n",
    "IQR = quantiles_lat[1] - quantiles_lat[0]\n",
    "min_value_lat = quantiles_lat[0] - 1.5 * IQR\n",
    "max_value_lat = quantiles_lat[1] + 1.5 * IQR\n",
    "\n",
    "quantiles_sq = new_df.approxQuantile('square',[0.25,0.75],0.05)\n",
    "IQR = quantiles_sq[1] - quantiles_sq[0]\n",
    "min_value_sq = quantiles_sq[0] - 1.5 * IQR\n",
    "max_value_sq = quantiles_sq[1] + 1.5 * IQR\n",
    "\n",
    "quantiles_f = new_df.approxQuantile('followers',[0.25,0.75],0.05)\n",
    "IQR = quantiles_f[1] - quantiles_f[0]\n",
    "min_value_f = quantiles_f[0] - 1.5 * IQR\n",
    "max_value_f = quantiles_f[1] + 1.5 * IQR\n",
    "\n",
    "model_data = new_df.filter((new_df['Lng'] >= min_value_lng) & \n",
    "              (new_df['Lng'] <= max_value_lng)&\n",
    "              (new_df['Lat'] >= min_value_lat) & \n",
    "              (new_df['Lat'] <= max_value_lat) &\n",
    "             (new_df['square'] >= min_value_sq) & \n",
    "              (new_df['square'] <= max_value_sq)&\n",
    "             (new_df['followers'] >= min_value_f) & \n",
    "              (new_df['followers'] <= max_value_f))\n",
    "model_data.count()"
   ]
  },
  {
   "cell_type": "code",
   "execution_count": 14,
   "metadata": {},
   "outputs": [
    {
     "name": "stdout",
     "output_type": "stream",
     "text": [
      "+------------+\n",
      "|buildingType|\n",
      "+------------+\n",
      "|         0.5|\n",
      "|       0.333|\n",
      "|       0.333|\n",
      "|         0.5|\n",
      "|       0.125|\n",
      "|         0.5|\n",
      "|         0.5|\n",
      "|       0.333|\n",
      "|         0.5|\n",
      "|       0.125|\n",
      "|       0.333|\n",
      "|         0.5|\n",
      "|        0.25|\n",
      "|         0.5|\n",
      "|        0.25|\n",
      "|         0.5|\n",
      "|         0.5|\n",
      "|         0.5|\n",
      "|         0.5|\n",
      "|       0.125|\n",
      "+------------+\n",
      "only showing top 20 rows\n",
      "\n"
     ]
    },
    {
     "data": {
      "text/plain": [
       "253910"
      ]
     },
     "execution_count": 14,
     "metadata": {},
     "output_type": "execute_result"
    }
   ],
   "source": [
    "new_df.filter(new_df['buildingType'] < 1).select('buildingType').show()\n",
    "model_data=model_data.filter(new_df['buildingType'] >= 1)\n",
    "model_data.count()"
   ]
  },
  {
   "cell_type": "code",
   "execution_count": 15,
   "metadata": {},
   "outputs": [
    {
     "name": "stdout",
     "output_type": "stream",
     "text": [
      "+----------+--------+---------+-----+------+----------+-----------+-------+--------+------------+-------------------+-----------------+-----------+--------+-----------------+------+--------+----------------+---------+--------+----------+\n",
      "|       Lng|     Lat|followers|price|square|livingRoom|drawingRoom|kitchen|bathRoom|buildingType|renovationCondition|buildingStructure|ladderRatio|elevator|fiveYearsProperty|subway|district|communityAverage|tradeYear|UsedTime|  newtotal|\n",
      "+----------+--------+---------+-----+------+----------+-----------+-------+--------+------------+-------------------+-----------------+-----------+--------+-----------------+------+--------+----------------+---------+--------+----------+\n",
      "|116.284755|39.93453|        6|32981| 64.28|       1.0|        0.0|      1|     1.0|         1.0|                  3|                6|      0.111|     1.0|              0.0|   1.0|       8|         70141.0|     2016|       7|2120018.68|\n",
      "+----------+--------+---------+-----+------+----------+-----------+-------+--------+------------+-------------------+-----------------+-----------+--------+-----------------+------+--------+----------------+---------+--------+----------+\n",
      "only showing top 1 row\n",
      "\n"
     ]
    }
   ],
   "source": [
    "model_data=model_data.drop('floor','constructionTime','totalPrice','tradeTime')\n",
    "model_data.show(1)"
   ]
  },
  {
   "cell_type": "code",
   "execution_count": 16,
   "metadata": {},
   "outputs": [],
   "source": [
    "#from pyspark.sql.functions import log\n",
    "#model_data=model_data.withColumn('logsquare',log(df['square'])+1)\n",
    "#model_data.show(1)"
   ]
  },
  {
   "cell_type": "code",
   "execution_count": 17,
   "metadata": {},
   "outputs": [
    {
     "name": "stdout",
     "output_type": "stream",
     "text": [
      "+----------+---------+---------+-----+------+----------+-----------+-------+--------+------------+-------------------+-----------------+-----------+--------+-----------------+------+--------+----------------+---------+--------+--------+\n",
      "|       Lng|      Lat|followers|price|square|livingRoom|drawingRoom|kitchen|bathRoom|buildingType|renovationCondition|buildingStructure|ladderRatio|elevator|fiveYearsProperty|subway|district|communityAverage|tradeYear|UsedTime|newtotal|\n",
      "+----------+---------+---------+-----+------+----------+-----------+-------+--------+------------+-------------------+-----------------+-----------+--------+-----------------+------+--------+----------------+---------+--------+--------+\n",
      "|116.441833|39.866749|        0|    1| 63.48|       2.0|        1.0|      1|     0.0|         1.0|                  1|                6|       0.25|     1.0|              1.0|   1.0|       2|         60626.0|     2011|      16|   63.48|\n",
      "|  116.4515|39.904606|        0|    1|  69.0|       2.0|        1.0|      1|     1.0|         1.0|                  1|                6|       0.25|     1.0|              1.0|   1.0|       1|         84031.0|     2011|       6|    69.0|\n",
      "|116.341145|39.966434|        0|    1| 52.57|       1.0|        1.0|      1|     1.0|         4.0|                  1|                2|        0.5|     0.0|              0.0|   0.0|       8|         87923.0|     2011|      25|   52.57|\n",
      "|116.654682|40.125799|        0|    1|  77.0|       1.0|        1.0|      1|     1.0|         3.0|                  1|                6|      0.667|     1.0|              0.0|   0.0|      13|         43994.0|     2011|       5|    77.0|\n",
      "|116.274641|39.888214|        0|    1|  15.0|       1.0|        1.0|      0|     0.0|         3.0|                  1|                6|        0.5|     1.0|              0.0|   0.0|       2|         58954.0|     2011|       1|    15.0|\n",
      "+----------+---------+---------+-----+------+----------+-----------+-------+--------+------------+-------------------+-----------------+-----------+--------+-----------------+------+--------+----------------+---------+--------+--------+\n",
      "only showing top 5 rows\n",
      "\n"
     ]
    }
   ],
   "source": [
    "model_data=model_data.orderBy('price')\n",
    "model_data.show(5)"
   ]
  },
  {
   "cell_type": "code",
   "execution_count": 18,
   "metadata": {},
   "outputs": [
    {
     "name": "stdout",
     "output_type": "stream",
     "text": [
      "root\n",
      " |-- Lng: double (nullable = true)\n",
      " |-- Lat: double (nullable = true)\n",
      " |-- followers: integer (nullable = true)\n",
      " |-- price: integer (nullable = true)\n",
      " |-- square: double (nullable = true)\n",
      " |-- livingRoom: double (nullable = false)\n",
      " |-- drawingRoom: double (nullable = false)\n",
      " |-- kitchen: integer (nullable = true)\n",
      " |-- bathRoom: double (nullable = false)\n",
      " |-- buildingType: double (nullable = true)\n",
      " |-- renovationCondition: integer (nullable = true)\n",
      " |-- buildingStructure: integer (nullable = true)\n",
      " |-- ladderRatio: double (nullable = true)\n",
      " |-- elevator: double (nullable = false)\n",
      " |-- fiveYearsProperty: double (nullable = false)\n",
      " |-- subway: double (nullable = false)\n",
      " |-- district: integer (nullable = true)\n",
      " |-- communityAverage: double (nullable = false)\n",
      " |-- tradeYear: integer (nullable = true)\n",
      " |-- UsedTime: integer (nullable = true)\n",
      " |-- newtotal: double (nullable = true)\n",
      "\n"
     ]
    }
   ],
   "source": [
    "model_data.printSchema()"
   ]
  },
  {
   "cell_type": "code",
   "execution_count": 19,
   "metadata": {},
   "outputs": [],
   "source": [
    "from pyspark.ml.linalg import Vectors\n",
    "from pyspark.ml.feature import VectorAssembler"
   ]
  },
  {
   "cell_type": "code",
   "execution_count": 20,
   "metadata": {},
   "outputs": [
    {
     "name": "stdout",
     "output_type": "stream",
     "text": [
      "root\n",
      " |-- Lng: double (nullable = true)\n",
      " |-- Lat: double (nullable = true)\n",
      " |-- followers: integer (nullable = true)\n",
      " |-- price: integer (nullable = true)\n",
      " |-- square: double (nullable = true)\n",
      " |-- livingRoom: double (nullable = false)\n",
      " |-- drawingRoom: double (nullable = false)\n",
      " |-- kitchen: integer (nullable = true)\n",
      " |-- bathRoom: double (nullable = false)\n",
      " |-- buildingType: double (nullable = true)\n",
      " |-- renovationCondition: integer (nullable = true)\n",
      " |-- buildingStructure: integer (nullable = true)\n",
      " |-- ladderRatio: double (nullable = true)\n",
      " |-- elevator: double (nullable = false)\n",
      " |-- fiveYearsProperty: double (nullable = false)\n",
      " |-- subway: double (nullable = false)\n",
      " |-- district: integer (nullable = true)\n",
      " |-- communityAverage: double (nullable = false)\n",
      " |-- tradeYear: integer (nullable = true)\n",
      " |-- UsedTime: integer (nullable = true)\n",
      " |-- newtotal: double (nullable = true)\n",
      " |-- features: vector (nullable = true)\n",
      "\n"
     ]
    },
    {
     "data": {
      "text/plain": [
       "[Row(features=DenseVector([116.4515, 39.9046, 0.0, 69.0, 2.0, 1.0, 1.0, 1.0, 1.0, 1.0, 6.0, 0.25, 1.0, 1.0, 1.0, 1.0, 84031.0, 2011.0, 69.0]), price=1)]"
      ]
     },
     "execution_count": 20,
     "metadata": {},
     "output_type": "execute_result"
    }
   ],
   "source": [
    "assembler = VectorAssembler(\n",
    "    inputCols=['Lng','Lat','followers','square','livingRoom','drawingRoom','kitchen',\n",
    "              'bathRoom','buildingType','renovationCondition','buildingStructure','ladderRatio',\n",
    "               'elevator','fiveYearsProperty','subway','district','communityAverage','tradeYear','newtotal'],\n",
    "    outputCol=\"features\")\n",
    "output = assembler.transform(model_data)\n",
    "output.printSchema()\n",
    "final_data = output.select(\"features\",'price')\n",
    "final_data.head(1)"
   ]
  },
  {
   "cell_type": "code",
   "execution_count": 21,
   "metadata": {},
   "outputs": [],
   "source": [
    "from pyspark.ml.regression import LinearRegression\n",
    "from pyspark.ml.regression import RandomForestRegressor\n",
    "from pyspark.ml.evaluation import RegressionEvaluator"
   ]
  },
  {
   "cell_type": "code",
   "execution_count": 32,
   "metadata": {},
   "outputs": [
    {
     "name": "stdout",
     "output_type": "stream",
     "text": [
      "+-------+------------------+\n",
      "|summary|             price|\n",
      "+-------+------------------+\n",
      "|  count|            177836|\n",
      "|   mean| 42611.93939922175|\n",
      "| stddev|20774.942773560542|\n",
      "|    min|                 1|\n",
      "|    max|            150000|\n",
      "+-------+------------------+\n",
      "\n",
      "+-------+------------------+\n",
      "|summary|             price|\n",
      "+-------+------------------+\n",
      "|  count|             76140|\n",
      "|   mean| 42636.70207512477|\n",
      "| stddev|20794.845435130832|\n",
      "|    min|                 1|\n",
      "|    max|            150000|\n",
      "+-------+------------------+\n",
      "\n"
     ]
    }
   ],
   "source": [
    "train_data,test_data = final_data.randomSplit([0.7,0.3])\n",
    "train_data.describe().show()\n",
    "test_data.describe().show()"
   ]
  },
  {
   "cell_type": "code",
   "execution_count": null,
   "metadata": {},
   "outputs": [],
   "source": [
    "lr = LinearRegression(labelCol='price')\n",
    "lrModel = lr.fit(train_data)"
   ]
  },
  {
   "cell_type": "code",
   "execution_count": 23,
   "metadata": {},
   "outputs": [
    {
     "name": "stdout",
     "output_type": "stream",
     "text": [
      "+------------------+-----+\n",
      "|        prediction|price|\n",
      "+------------------+-----+\n",
      "| 782.0828419839963|    3|\n",
      "|24008.549050875008| 6908|\n",
      "|17428.768690615892| 4783|\n",
      "| 8775.320215279236|    3|\n",
      "| 8574.428826021962| 5596|\n",
      "| 20868.02475721948| 6801|\n",
      "|20791.918033164926| 6800|\n",
      "|19477.405879523605| 6800|\n",
      "| 18301.50638456829| 6800|\n",
      "|15063.626786114648| 6800|\n",
      "+------------------+-----+\n",
      "only showing top 10 rows\n",
      "\n",
      "             attributes  coefficient\n",
      "0                   Lng -1525.035591\n",
      "1                   Lat  5020.175128\n",
      "2             followers    19.498049\n",
      "3                square  -406.294041\n",
      "4            livingRoom   -81.444325\n",
      "5           drawingRoom   929.265793\n",
      "6               kitchen -2485.062624\n",
      "7              bathRoom  1689.589134\n",
      "8          buildingType  -149.178509\n",
      "9   renovationCondition  -739.249674\n",
      "10    buildingStructure  -354.540990\n",
      "11          ladderRatio    -0.000144\n",
      "12             elevator  -393.838409\n",
      "13    fiveYearsProperty  -708.270867\n",
      "14               subway   276.425185\n",
      "15             district   -10.815702\n",
      "16     communityAverage     0.203427\n",
      "17            tradeYear  2577.208897\n",
      "18             newtotal     0.009094\n",
      "Intercept: -5179044.787447714\n",
      "Model: linear regression\n",
      "RSME: 6375.84759452181\n",
      "R2: 0.9065827261919895\n",
      "+-------------------+\n",
      "|          residuals|\n",
      "+-------------------+\n",
      "| -779.0828419839963|\n",
      "|-17100.549050875008|\n",
      "|-12645.768690615892|\n",
      "| -7024.826386139728|\n",
      "|-20511.927266483195|\n",
      "| -2978.428826021962|\n",
      "|-13991.918033164926|\n",
      "|-12763.519698631018|\n",
      "|-12677.405879523605|\n",
      "|-11597.953861968592|\n",
      "|-11501.506384568289|\n",
      "| 10898.420241749845|\n",
      "| 10898.420241749845|\n",
      "| 12701.090605242178|\n",
      "|-19305.117071644403|\n",
      "|-17111.506681848317|\n",
      "| -21571.68129643891|\n",
      "|-20949.191121697426|\n",
      "|-20712.403305218555|\n",
      "|-30032.144169462845|\n",
      "+-------------------+\n",
      "only showing top 20 rows\n",
      "\n"
     ]
    }
   ],
   "source": [
    "import pandas\n",
    "lr_predictions = lrModel.transform(test_data)\n",
    "lr_predictions.select(\"prediction\",\"price\").show(10)\n",
    "columns =['Lng','Lat','followers','square','livingRoom','drawingRoom','kitchen',\n",
    "              'bathRoom','buildingType','renovationCondition','buildingStructure','ladderRatio',\n",
    "               'elevator','fiveYearsProperty','subway','district','communityAverage','tradeYear','newtotal']\n",
    "df = pandas.DataFrame({'attributes': columns, 'coefficient': lrModel.coefficients,})\n",
    "print(df)\n",
    "print(\"Intercept: {}\".format(lrModel.intercept))\n",
    "\n",
    "test_results = lrModel.evaluate(test_data)\n",
    "print('Model: linear regression')\n",
    "print(\"RSME: {}\".format(test_results.rootMeanSquaredError))\n",
    "print(\"R2: {}\".format(test_results.r2))\n",
    "test_results.residuals.show()"
   ]
  },
  {
   "cell_type": "code",
   "execution_count": 24,
   "metadata": {},
   "outputs": [],
   "source": [
    "import matplotlib.pyplot as plt\n",
    "lrp = lr_predictions.toPandas()"
   ]
  },
  {
   "cell_type": "code",
   "execution_count": 25,
   "metadata": {},
   "outputs": [
    {
     "data": {
      "image/png": "[encoded data removed]",
      "text/plain": [
       "<Figure size 432x288 with 1 Axes>"
      ]
     },
     "metadata": {},
     "output_type": "display_data"
    }
   ],
   "source": [
    "plt.plot(lrp['price'],lrp['prediction'],'o', color='black') \n",
    "plt.title('actual value vs predicted value')\n",
    "plt.xlabel('price')\n",
    "plt.ylabel('predicted value')\n",
    "plt.show()"
   ]
  },
  {
   "cell_type": "code",
   "execution_count": 26,
   "metadata": {},
   "outputs": [],
   "source": [
    "rf = RandomForestRegressor(featuresCol=\"features\", labelCol = 'price')\n",
    "rf_model = rf.fit(train_data)"
   ]
  },
  {
   "cell_type": "code",
   "execution_count": 27,
   "metadata": {},
   "outputs": [
    {
     "name": "stdout",
     "output_type": "stream",
     "text": [
      "+------------------+-----+\n",
      "|        prediction|price|\n",
      "+------------------+-----+\n",
      "|19032.664374223594|    3|\n",
      "| 28824.52498560265| 6908|\n",
      "| 21779.07392334953| 4783|\n",
      "| 34722.83795573782| 7705|\n",
      "|21423.472427283185|    3|\n",
      "|26376.906195987063|    3|\n",
      "| 19688.33055382646| 6800|\n",
      "| 19688.33055382646| 6800|\n",
      "| 19688.33055382646| 6800|\n",
      "| 19688.33055382646| 6800|\n",
      "+------------------+-----+\n",
      "only showing top 10 rows\n",
      "\n",
      "# of trees: 20\n",
      "             attributes  feature Importances\n",
      "0                   Lng             0.004499\n",
      "1                   Lat             0.023904\n",
      "2             followers             0.009702\n",
      "3                square             0.054178\n",
      "4            livingRoom             0.004648\n",
      "5           drawingRoom             0.004851\n",
      "6               kitchen             0.000000\n",
      "7              bathRoom             0.006193\n",
      "8          buildingType             0.000000\n",
      "9   renovationCondition             0.023889\n",
      "10    buildingStructure             0.002258\n",
      "11          ladderRatio             0.000150\n",
      "12             elevator             0.000096\n",
      "13    fiveYearsProperty             0.000260\n",
      "14               subway             0.001130\n",
      "15             district             0.015306\n",
      "16     communityAverage             0.365801\n",
      "17            tradeYear             0.238873\n",
      "18             newtotal             0.244263\n",
      "Model: Random forest Regressor\n",
      "RMSE: 7438.07123023614\n",
      "R2: 0.8727486231867513\n"
     ]
    }
   ],
   "source": [
    "rf_predictions = rf_model.transform(test_data)\n",
    "rf_evaluator = RegressionEvaluator(\n",
    "    labelCol=\"price\", predictionCol=\"prediction\")\n",
    "\n",
    "rf_predictions.select(\"prediction\",\"price\").show(10)\n",
    "df = pandas.DataFrame({'attributes': columns, 'feature Importances': rf_model.featureImportances,})\n",
    "print('# of trees:', rf_model.getNumTrees)\n",
    "print(df)\n",
    "print('Model: Random forest Regressor')\n",
    "print('RMSE:', rf_evaluator.evaluate(rf_predictions, {rf_evaluator.metricName: \"rmse\"}))\n",
    "print('R2:', rf_evaluator.evaluate(rf_predictions, {rf_evaluator.metricName: \"r2\"}))"
   ]
  },
  {
   "cell_type": "code",
   "execution_count": 28,
   "metadata": {},
   "outputs": [
    {
     "data": {
      "text/plain": [
       "Text(0,0.5,'predicted value')"
      ]
     },
     "execution_count": 28,
     "metadata": {},
     "output_type": "execute_result"
    },
    {
     "data": {
      "image/png": "[encoded data removed]",
      "text/plain": [
       "<Figure size 432x288 with 1 Axes>"
      ]
     },
     "metadata": {},
     "output_type": "display_data"
    }
   ],
   "source": [
    "rfp = rf_predictions.toPandas()\n",
    "plt.plot(rfp['price'],rfp['prediction'],'o', color='black') \n",
    "plt.title('actual value vs predicted value')\n",
    "plt.xlabel('price')\n",
    "plt.ylabel('predicted value')"
   ]
  },
  {
   "cell_type": "code",
   "execution_count": 29,
   "metadata": {},
   "outputs": [
    {
     "name": "stdout",
     "output_type": "stream",
     "text": [
      "+-------+------------------+\n",
      "|summary|             price|\n",
      "+-------+------------------+\n",
      "|  count|             17768|\n",
      "|   mean|42828.930943268795|\n",
      "| stddev|20711.734229686397|\n",
      "|    min|                 2|\n",
      "|    max|            149933|\n",
      "+-------+------------------+\n",
      "\n"
     ]
    }
   ],
   "source": [
    "subset1,subset2=final_data.randomSplit([0.1,0.9])\n",
    "train_data,test_data = subset1.randomSplit([0.7,0.3])\n",
    "train_data.describe().show()"
   ]
  },
  {
   "cell_type": "code",
   "execution_count": 30,
   "metadata": {},
   "outputs": [
    {
     "name": "stdout",
     "output_type": "stream",
     "text": [
      "+-------------------+-----+\n",
      "|         prediction|price|\n",
      "+-------------------+-----+\n",
      "|   6488.45946892444| 1997|\n",
      "|  17597.15946311783| 4783|\n",
      "| 3060.7742544310167| 3918|\n",
      "|   4838.38012458384|    4|\n",
      "|  28059.17839507293|    3|\n",
      "|  4100.014441032894|    3|\n",
      "| -6737.455491489731| 3646|\n",
      "|-10595.295297628269| 1779|\n",
      "| -15429.10619230941| 1632|\n",
      "|-12713.267375029624| 3103|\n",
      "+-------------------+-----+\n",
      "only showing top 10 rows\n",
      "\n",
      "             attributes  coefficient\n",
      "0                   Lng  -882.109653\n",
      "1                   Lat  5081.837206\n",
      "2             followers    18.152932\n",
      "3                square  -407.170802\n",
      "4            livingRoom  -103.436522\n",
      "5           drawingRoom   888.615442\n",
      "6               kitchen -1704.966437\n",
      "7              bathRoom  2036.292100\n",
      "8          buildingType   -62.037940\n",
      "9   renovationCondition  -725.472942\n",
      "10    buildingStructure  -404.916248\n",
      "11          ladderRatio -1474.764761\n",
      "12             elevator  -275.825012\n",
      "13    fiveYearsProperty  -863.281004\n",
      "14               subway   276.912599\n",
      "15             district   -25.430190\n",
      "16     communityAverage     0.202912\n",
      "17            tradeYear  2611.224780\n",
      "18             newtotal     0.009103\n",
      "Intercept: -5325226.621837436\n",
      "Model: linear regression\n",
      "RSME: 6184.70115114381\n",
      "R2: 0.9109435626056335\n",
      "+-------------------+\n",
      "|          residuals|\n",
      "+-------------------+\n",
      "|  -4491.45946892444|\n",
      "|-1177.8105759723112|\n",
      "| 16656.487914694473|\n",
      "|-18257.815599578433|\n",
      "|-27172.649643371813|\n",
      "| 15986.904759705998|\n",
      "| 21685.070014132187|\n",
      "| -25383.62036966253|\n",
      "| -11238.74298106227|\n",
      "| 10156.724062392488|\n",
      "|-3113.3949416493997|\n",
      "|-12093.099184446968|\n",
      "|-1637.1718503860757|\n",
      "|-14289.623670813628|\n",
      "| 19264.907134719193|\n",
      "| 13997.692383929156|\n",
      "| -11183.83973087743|\n",
      "|  7687.094137800857|\n",
      "|  6935.081333883107|\n",
      "|  7365.870091049932|\n",
      "+-------------------+\n",
      "only showing top 20 rows\n",
      "\n"
     ]
    }
   ],
   "source": [
    "lr = LinearRegression(labelCol='price')\n",
    "lrModel = lr.fit(train_data)\n",
    "lr_predictions = lrModel.transform(test_data)\n",
    "lr_predictions.select(\"prediction\",\"price\").show(10)\n",
    "df = pandas.DataFrame({'attributes': columns, 'coefficient': lrModel.coefficients,})\n",
    "print(df)\n",
    "print(\"Intercept: {}\".format(lrModel.intercept))\n",
    "\n",
    "test_results = lrModel.evaluate(test_data)\n",
    "print('Model: linear regression')\n",
    "print(\"RSME: {}\".format(test_results.rootMeanSquaredError))\n",
    "print(\"R2: {}\".format(test_results.r2))\n",
    "test_results.residuals.show()"
   ]
  },
  {
   "cell_type": "code",
   "execution_count": 31,
   "metadata": {},
   "outputs": [
    {
     "data": {
      "image/png": "[encoded data removed]",
      "text/plain": [
       "<Figure size 432x288 with 1 Axes>"
      ]
     },
     "metadata": {},
     "output_type": "display_data"
    }
   ],
   "source": [
    "import matplotlib.pyplot as plt\n",
    "lrp = lr_predictions.toPandas()\n",
    "plt.plot(lrp['price'],lrp['prediction'],'o', color='black') \n",
    "plt.title('actual value vs predicted value')\n",
    "plt.xlabel('price')\n",
    "plt.ylabel('predicted value')\n",
    "plt.show()"
   ]
  }
 ],
 "metadata": {
  "kernelspec": {
   "display_name": "Python 3",
   "language": "python",
   "name": "python3"
  },
  "language_info": {
   "codemirror_mode": {
    "name": "ipython",
    "version": 3
   },
   "file_extension": ".py",
   "mimetype": "text/x-python",
   "name": "python",
   "nbconvert_exporter": "python",
   "pygments_lexer": "ipython3",
   "version": "3.5.2"
  }
 },
 "nbformat": 4,
 "nbformat_minor": 2
}
